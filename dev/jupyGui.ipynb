{
 "cells": [
  {
   "cell_type": "markdown",
   "id": "9c958493-f68a-4f6a-8d76-3728f0b5dce2",
   "metadata": {},
   "source": [
    "__Cell 2 Fire +S&B__"
   ]
  },
  {
   "cell_type": "code",
   "execution_count": 8,
   "id": "55dd49de-7e44-489c-9fd9-edabe9e13ef4",
   "metadata": {
    "jupyter": {
     "source_hidden": true
    },
    "tags": []
   },
   "outputs": [],
   "source": [
    "import ipywidgets as widgets\n",
    "from ipyfilechooser import FileChooser\n",
    "import os"
   ]
  },
  {
   "cell_type": "code",
   "execution_count": 5,
   "id": "46fe81f8-b27d-487b-b4ba-16be23ccc496",
   "metadata": {
    "collapsed": true,
    "jupyter": {
     "outputs_hidden": true,
     "source_hidden": true
    },
    "tags": []
   },
   "outputs": [
    {
     "name": "stdout",
     "output_type": "stream",
     "text": [
      "Collecting ipyfilechooser\n",
      "  Downloading ipyfilechooser-0.6.0-py3-none-any.whl (11 kB)\n",
      "Requirement already satisfied: ipywidgets in ./pyenv/lib/python3.9/site-packages (from ipyfilechooser) (8.0.4)\n",
      "Requirement already satisfied: jupyterlab-widgets~=3.0 in ./pyenv/lib/python3.9/site-packages (from ipywidgets->ipyfilechooser) (3.0.5)\n",
      "Requirement already satisfied: widgetsnbextension~=4.0 in ./pyenv/lib/python3.9/site-packages (from ipywidgets->ipyfilechooser) (4.0.5)\n",
      "Requirement already satisfied: ipykernel>=4.5.1 in ./pyenv/lib/python3.9/site-packages (from ipywidgets->ipyfilechooser) (6.19.4)\n",
      "Requirement already satisfied: ipython>=6.1.0 in ./pyenv/lib/python3.9/site-packages (from ipywidgets->ipyfilechooser) (8.7.0)\n",
      "Requirement already satisfied: traitlets>=4.3.1 in ./pyenv/lib/python3.9/site-packages (from ipywidgets->ipyfilechooser) (5.8.0)\n",
      "Requirement already satisfied: psutil in ./pyenv/lib/python3.9/site-packages (from ipykernel>=4.5.1->ipywidgets->ipyfilechooser) (5.9.4)\n",
      "Requirement already satisfied: pyzmq>=17 in ./pyenv/lib/python3.9/site-packages (from ipykernel>=4.5.1->ipywidgets->ipyfilechooser) (24.0.1)\n",
      "Requirement already satisfied: jupyter-client>=6.1.12 in ./pyenv/lib/python3.9/site-packages (from ipykernel>=4.5.1->ipywidgets->ipyfilechooser) (7.4.8)\n",
      "Requirement already satisfied: debugpy>=1.0 in ./pyenv/lib/python3.9/site-packages (from ipykernel>=4.5.1->ipywidgets->ipyfilechooser) (1.6.4)\n",
      "Requirement already satisfied: tornado>=6.1 in ./pyenv/lib/python3.9/site-packages (from ipykernel>=4.5.1->ipywidgets->ipyfilechooser) (6.2)\n",
      "Requirement already satisfied: comm>=0.1.1 in ./pyenv/lib/python3.9/site-packages (from ipykernel>=4.5.1->ipywidgets->ipyfilechooser) (0.1.2)\n",
      "Requirement already satisfied: packaging in ./pyenv/lib/python3.9/site-packages (from ipykernel>=4.5.1->ipywidgets->ipyfilechooser) (22.0)\n",
      "Requirement already satisfied: nest-asyncio in ./pyenv/lib/python3.9/site-packages (from ipykernel>=4.5.1->ipywidgets->ipyfilechooser) (1.5.6)\n",
      "Requirement already satisfied: matplotlib-inline>=0.1 in ./pyenv/lib/python3.9/site-packages (from ipykernel>=4.5.1->ipywidgets->ipyfilechooser) (0.1.6)\n",
      "Requirement already satisfied: jedi>=0.16 in ./pyenv/lib/python3.9/site-packages (from ipython>=6.1.0->ipywidgets->ipyfilechooser) (0.18.2)\n",
      "Requirement already satisfied: prompt-toolkit<3.1.0,>=3.0.11 in ./pyenv/lib/python3.9/site-packages (from ipython>=6.1.0->ipywidgets->ipyfilechooser) (3.0.36)\n",
      "Requirement already satisfied: pygments>=2.4.0 in ./pyenv/lib/python3.9/site-packages (from ipython>=6.1.0->ipywidgets->ipyfilechooser) (2.13.0)\n",
      "Requirement already satisfied: pexpect>4.3 in ./pyenv/lib/python3.9/site-packages (from ipython>=6.1.0->ipywidgets->ipyfilechooser) (4.8.0)\n",
      "Requirement already satisfied: backcall in ./pyenv/lib/python3.9/site-packages (from ipython>=6.1.0->ipywidgets->ipyfilechooser) (0.2.0)\n",
      "Requirement already satisfied: pickleshare in ./pyenv/lib/python3.9/site-packages (from ipython>=6.1.0->ipywidgets->ipyfilechooser) (0.7.5)\n",
      "Requirement already satisfied: decorator in ./pyenv/lib/python3.9/site-packages (from ipython>=6.1.0->ipywidgets->ipyfilechooser) (5.1.1)\n",
      "Requirement already satisfied: stack-data in ./pyenv/lib/python3.9/site-packages (from ipython>=6.1.0->ipywidgets->ipyfilechooser) (0.6.2)\n",
      "Requirement already satisfied: parso<0.9.0,>=0.8.0 in ./pyenv/lib/python3.9/site-packages (from jedi>=0.16->ipython>=6.1.0->ipywidgets->ipyfilechooser) (0.8.3)\n",
      "Requirement already satisfied: jupyter-core>=4.9.2 in ./pyenv/lib/python3.9/site-packages (from jupyter-client>=6.1.12->ipykernel>=4.5.1->ipywidgets->ipyfilechooser) (5.1.1)\n",
      "Requirement already satisfied: entrypoints in ./pyenv/lib/python3.9/site-packages (from jupyter-client>=6.1.12->ipykernel>=4.5.1->ipywidgets->ipyfilechooser) (0.4)\n",
      "Requirement already satisfied: python-dateutil>=2.8.2 in ./pyenv/lib/python3.9/site-packages (from jupyter-client>=6.1.12->ipykernel>=4.5.1->ipywidgets->ipyfilechooser) (2.8.2)\n",
      "Requirement already satisfied: ptyprocess>=0.5 in ./pyenv/lib/python3.9/site-packages (from pexpect>4.3->ipython>=6.1.0->ipywidgets->ipyfilechooser) (0.7.0)\n",
      "Requirement already satisfied: wcwidth in ./pyenv/lib/python3.9/site-packages (from prompt-toolkit<3.1.0,>=3.0.11->ipython>=6.1.0->ipywidgets->ipyfilechooser) (0.2.5)\n",
      "Requirement already satisfied: asttokens>=2.1.0 in ./pyenv/lib/python3.9/site-packages (from stack-data->ipython>=6.1.0->ipywidgets->ipyfilechooser) (2.2.1)\n",
      "Requirement already satisfied: executing>=1.2.0 in ./pyenv/lib/python3.9/site-packages (from stack-data->ipython>=6.1.0->ipywidgets->ipyfilechooser) (1.2.0)\n",
      "Requirement already satisfied: pure-eval in ./pyenv/lib/python3.9/site-packages (from stack-data->ipython>=6.1.0->ipywidgets->ipyfilechooser) (0.2.2)\n",
      "Requirement already satisfied: six in ./pyenv/lib/python3.9/site-packages (from asttokens>=2.1.0->stack-data->ipython>=6.1.0->ipywidgets->ipyfilechooser) (1.16.0)\n",
      "Requirement already satisfied: platformdirs>=2.5 in ./pyenv/lib/python3.9/site-packages (from jupyter-core>=4.9.2->jupyter-client>=6.1.12->ipykernel>=4.5.1->ipywidgets->ipyfilechooser) (2.6.1)\n",
      "Installing collected packages: ipyfilechooser\n",
      "Successfully installed ipyfilechooser-0.6.0\n",
      "Note: you may need to restart the kernel to use updated packages.\n"
     ]
    }
   ],
   "source": [
    "%pip install ipyfilechooser"
   ]
  },
  {
   "cell_type": "markdown",
   "id": "04fe109d-efe3-437e-be37-323ea73310b4",
   "metadata": {},
   "source": [
    "# Select Inputs\n",
    "## 1. Input Instance Folder\n",
    "The path to the folder contains all the files for the simulation  \n",
    "At least should have 'Data.csv', 'fuels.csv' TBD files ..."
   ]
  },
  {
   "cell_type": "code",
   "execution_count": 51,
   "id": "d868e15b-a039-4998-b636-a19d6453c6da",
   "metadata": {
    "jupyter": {
     "source_hidden": true
    },
    "tags": []
   },
   "outputs": [
    {
     "data": {
      "application/vnd.jupyter.widget-view+json": {
       "model_id": "00be08c085c54704a209b0a6763f05b2",
       "version_major": 2,
       "version_minor": 0
      },
      "text/plain": [
       "FileChooser(path='/home/fdo/source/C2FSB/data', filename='', title='', show_hidden=False, select_desc='Select'…"
      ]
     },
     "metadata": {},
     "output_type": "display_data"
    }
   ],
   "source": [
    "# Create and display a FileChooser widget\n",
    "fc = FileChooser(os.path.join(os.getcwd(),'data'))\n",
    "fc.show_only_dirs = True\n",
    "display(fc)"
   ]
  },
  {
   "cell_type": "code",
   "execution_count": 55,
   "id": "8d19e589-021e-4b50-91fc-018756b206bd",
   "metadata": {
    "jupyter": {
     "source_hidden": true
    },
    "tags": []
   },
   "outputs": [
    {
     "name": "stdout",
     "output_type": "stream",
     "text": [
      "warning using Hom_Fuel_101_40x40 default instance\n",
      "input_instance_folder : /home/fdo/source/C2FSB/data/Hom_Fuel_101_40x40\n"
     ]
    }
   ],
   "source": [
    "if fc.selected_path is None:\n",
    "    input_instance_folder = os.path.join(os.getcwd(),os.path.join('data','Hom_Fuel_101_40x40'))\n",
    "    print('warning using Hom_Fuel_101_40x40 default instance')\n",
    "else:\n",
    "    input_instance_folder = fc.selected_path\n",
    "print('input_instance_folder :',input_instance_folder)"
   ]
  },
  {
   "cell_type": "markdown",
   "id": "e0ca4f0d-751a-48a7-b9ab-e24a403653ba",
   "metadata": {
    "tags": []
   },
   "source": [
    "## 2. Output Folder\n",
    "The path to the folder for simulation output files"
   ]
  },
  {
   "cell_type": "code",
   "execution_count": 18,
   "id": "0bd83813-eb53-42a3-8ac5-2a1f19496bfc",
   "metadata": {
    "jupyter": {
     "source_hidden": true
    },
    "tags": []
   },
   "outputs": [
    {
     "data": {
      "application/vnd.jupyter.widget-view+json": {
       "model_id": "3d1e3a8da5d04cecaab4f3d1fd4417e3",
       "version_major": 2,
       "version_minor": 0
      },
      "text/plain": [
       "FileChooser(path='/home/fdo/source/C2FSB', filename='', title='', show_hidden=False, select_desc='Select', cha…"
      ]
     },
     "metadata": {},
     "output_type": "display_data"
    }
   ],
   "source": [
    "# Create and display a FileChooser widget\n",
    "fc1 = FileChooser(os.getcwd())\n",
    "fc1.show_only_dirs = True\n",
    "display(fc1)"
   ]
  },
  {
   "cell_type": "code",
   "execution_count": 56,
   "id": "c6717167-97b7-4d0b-9c8f-9de4fef7f634",
   "metadata": {
    "jupyter": {
     "source_hidden": true
    },
    "tags": []
   },
   "outputs": [
    {
     "name": "stdout",
     "output_type": "stream",
     "text": [
      "output_folder : /home/fdo/source/C2FSB/results/jupyter\n"
     ]
    }
   ],
   "source": [
    "if fc1.selected_path is None:\n",
    "    output_folder = os.path.join(os.getcwd(),os.path.join('results'))\n",
    "    print('warning using default results folder')\n",
    "else:\n",
    "    output_folder = fc1.selected_path\n",
    "print('output_folder :',output_folder)"
   ]
  },
  {
   "cell_type": "markdown",
   "id": "ada41be1-4068-453d-a070-d57199b92548",
   "metadata": {},
   "source": [
    "## 3. Ignitions\n",
    "Activates the predefined ignition points when using the folder execution"
   ]
  },
  {
   "cell_type": "code",
   "execution_count": 75,
   "id": "ab169f78-c489-4717-a80f-c9c1b05c0682",
   "metadata": {},
   "outputs": [
    {
     "data": {
      "application/vnd.jupyter.widget-view+json": {
       "model_id": "7248b044bd374e968df85da43301c57e",
       "version_major": 2,
       "version_minor": 0
      },
      "text/plain": [
       "RadioButtons(description='Select ignition type:', index=1, options=('none', 'random', 'selected point'), value…"
      ]
     },
     "metadata": {},
     "output_type": "display_data"
    },
    {
     "data": {
      "application/vnd.jupyter.widget-view+json": {
       "model_id": "c37145b8c3cf4ade879800a74ffb3864",
       "version_major": 2,
       "version_minor": 0
      },
      "text/plain": [
       "BoundedIntText(value=1, description='Adjacents degree for defining an ignition area (around ignition point):',…"
      ]
     },
     "metadata": {},
     "output_type": "display_data"
    },
    {
     "data": {
      "application/vnd.jupyter.widget-view+json": {
       "model_id": "44dee8d51da542ebbb31f8841810853d",
       "version_major": 2,
       "version_minor": 0
      },
      "text/plain": [
       "Output()"
      ]
     },
     "metadata": {},
     "output_type": "display_data"
    }
   ],
   "source": [
    "output = widgets.Output()\n",
    "\n",
    "ignition_rb = widgets.RadioButtons(\n",
    "    options=['none', 'random', 'selected point'],\n",
    "    value='random', # Defaults to 'pineapple'\n",
    "#    layout={'width': 'max-content'}, # If the items' names are long\n",
    "    description='Select ignition type:',\n",
    "    disabled=False,\n",
    ")\n",
    "ignitionRad_bint = widgets.BoundedIntText(\n",
    "    value=1,\n",
    "    min=0,\n",
    "    max=10,\n",
    "    step=1,\n",
    "    description='Adjacents degree for defining an ignition area (around ignition point):',\n",
    "    disabled=True\n",
    ")\n",
    "# event handler\n",
    "def on_radio_selection(b):\n",
    "    if b.new == 'selected point':\n",
    "        ignitionRad_bint.disabled = False\n",
    "    else:\n",
    "        ignitionRad_bint.disabled = True\n",
    "    with output:\n",
    "        print(\"Button clicked.\", b.new)\n",
    "ignition_rb.observe(on_radio_selection, names='value')\n",
    "\n",
    "display(ignition_rb, ignitionRad_bint, output)"
   ]
  },
  {
   "cell_type": "code",
   "execution_count": null,
   "id": "2b89cb55-d0fe-43e6-9daf-a73e97f75365",
   "metadata": {},
   "outputs": [],
   "source": []
  }
 ],
 "metadata": {
  "kernelspec": {
   "display_name": "Python 3 (ipykernel)",
   "language": "python",
   "name": "python3"
  },
  "language_info": {
   "codemirror_mode": {
    "name": "ipython",
    "version": 3
   },
   "file_extension": ".py",
   "mimetype": "text/x-python",
   "name": "python",
   "nbconvert_exporter": "python",
   "pygments_lexer": "ipython3",
   "version": "3.9.2"
  }
 },
 "nbformat": 4,
 "nbformat_minor": 5
}
